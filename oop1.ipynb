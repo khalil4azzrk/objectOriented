{
 "cells": [
  {
   "cell_type": "markdown",
   "id": "9ccc493a",
   "metadata": {},
   "source": [
    "# OOP par1"
   ]
  },
  {
   "cell_type": "markdown",
   "id": "7124e01d",
   "metadata": {},
   "source": [
    "## Examp 1 "
   ]
  },
  {
   "cell_type": "code",
   "execution_count": null,
   "id": "280b5e4f",
   "metadata": {},
   "outputs": [],
   "source": [
    "class Person : \n",
    "    def __init__(self , name , sex , age ):\n",
    "        # Explain the meaning of attributes and methods \n",
    "        self.name = name # We want every (person) object from Person to have a attribute called Name, and put the value that the user used in it\n",
    "        self.sex=sex \n",
    "        self.age =age \n",
    "    def Eat(self , food) : \n",
    "        return F\"He want to eat {food}\"\n",
    "    def Is_old(self ): \n",
    "        if self.age >70 : \n",
    "            print('Old Man')\n",
    "\n",
    "        else: \n",
    "            print(' young man')\n"
   ]
  },
  {
   "cell_type": "code",
   "execution_count": 27,
   "id": "8c586980",
   "metadata": {},
   "outputs": [
    {
     "name": "stdout",
     "output_type": "stream",
     "text": [
      "My name is khalil, and I'm 28 years old , and I am  male  ,  He want to eat Pizza\n",
      "My name is Reda, and I'm 90 years old , and I am  male  ,  He want to eat Fish\n"
     ]
    }
   ],
   "source": [
    "p1= Person('khalil' , 'male' , 28)\n",
    "print(F\"My name is {p1.name}, and I'm {p1.age} years old , and I am  {p1.sex}  ,  {p1.Eat('Pizza')}\")\n",
    "p2= Person('Reda' , 'male' , 90)\n",
    "print(F\"My name is {p2.name}, and I'm {p2.age} years old , and I am  {p2.sex}  ,  {p2.Eat('Fish')}\")"
   ]
  },
  {
   "cell_type": "code",
   "execution_count": 24,
   "id": "af7e126a",
   "metadata": {},
   "outputs": [
    {
     "data": {
      "text/plain": [
       "'He want to eat Pizza'"
      ]
     },
     "execution_count": 24,
     "metadata": {},
     "output_type": "execute_result"
    }
   ],
   "source": [
    "p1.Eat('Pizza')"
   ]
  },
  {
   "cell_type": "code",
   "execution_count": 25,
   "id": "10cc4f29",
   "metadata": {},
   "outputs": [
    {
     "name": "stdout",
     "output_type": "stream",
     "text": [
      " young man\n"
     ]
    }
   ],
   "source": [
    "p1.Is_old()"
   ]
  },
  {
   "cell_type": "code",
   "execution_count": 28,
   "id": "807f7f88",
   "metadata": {},
   "outputs": [
    {
     "name": "stdout",
     "output_type": "stream",
     "text": [
      "Old Man\n"
     ]
    }
   ],
   "source": [
    "p2.Is_old()"
   ]
  },
  {
   "cell_type": "markdown",
   "id": "1c33c3ba",
   "metadata": {},
   "source": [
    "## Exam 2 "
   ]
  },
  {
   "cell_type": "code",
   "execution_count": 30,
   "id": "62ea78ee",
   "metadata": {},
   "outputs": [],
   "source": [
    "class Circle : \n",
    "    pi = 3.14 # constant variable , static variable \n",
    "    def __init__(self , r):\n",
    "        self.r=r \n",
    "    def calc_area(self): \n",
    "        return self.pi*self.r**2\n",
    "    def calc_circum(self): \n",
    "        return 2*self.pi * self.r \n",
    "            "
   ]
  },
  {
   "cell_type": "code",
   "execution_count": 31,
   "id": "4e37eac7",
   "metadata": {},
   "outputs": [
    {
     "data": {
      "text/plain": [
       "28.26"
      ]
     },
     "execution_count": 31,
     "metadata": {},
     "output_type": "execute_result"
    }
   ],
   "source": [
    "obj1= Circle(3)\n",
    "obj1.calc_area()"
   ]
  },
  {
   "cell_type": "code",
   "execution_count": 32,
   "id": "ef45fb26",
   "metadata": {},
   "outputs": [
    {
     "data": {
      "text/plain": [
       "18.84"
      ]
     },
     "execution_count": 32,
     "metadata": {},
     "output_type": "execute_result"
    }
   ],
   "source": [
    "obj1.calc_circum()"
   ]
  },
  {
   "cell_type": "code",
   "execution_count": null,
   "id": "e3d7cded",
   "metadata": {},
   "outputs": [],
   "source": []
  },
  {
   "cell_type": "code",
   "execution_count": null,
   "id": "ea727422",
   "metadata": {},
   "outputs": [],
   "source": []
  }
 ],
 "metadata": {
  "kernelspec": {
   "display_name": "base",
   "language": "python",
   "name": "python3"
  },
  "language_info": {
   "codemirror_mode": {
    "name": "ipython",
    "version": 3
   },
   "file_extension": ".py",
   "mimetype": "text/x-python",
   "name": "python",
   "nbconvert_exporter": "python",
   "pygments_lexer": "ipython3",
   "version": "3.12.7"
  }
 },
 "nbformat": 4,
 "nbformat_minor": 5
}
