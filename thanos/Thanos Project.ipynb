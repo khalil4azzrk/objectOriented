{
 "cells": [
  {
   "cell_type": "markdown",
   "metadata": {},
   "source": [
    "- Make a copy of the Universe images in the backup folder.\n",
    "- make a function to kill half the images randomly.\n",
    "- call the func several times to kill the entire population( half the number of images each time).\n",
    "- Import the images again to the universe folder from the backup folder.\n",
    "- Create another folder and take a copy from the images with different random names consisting of 5 letters."
   ]
  },
  {
   "cell_type": "code",
   "execution_count": 49,
   "metadata": {},
   "outputs": [],
   "source": [
    "import os \n",
    "import shutil  \n",
    "import random"
   ]
  },
  {
   "cell_type": "code",
   "execution_count": 112,
   "metadata": {},
   "outputs": [],
   "source": [
    "\n",
    "for img in os.listdir('universe'): \n",
    "    shutil.copy(src=f'universe\\{img}' , dst='backup')\n"
   ]
  },
  {
   "cell_type": "code",
   "execution_count": 88,
   "metadata": {},
   "outputs": [],
   "source": [
    "def kill_half(folder_path):\n",
    "    backup = os.listdir(folder_path)\n",
    "    half_img_backup= len(os.listdir(folder_path))//2  # 12\n",
    "    if len(backup)/2==0.5:\n",
    "        half_img_backup=1\n",
    "    elif len(backup)/2==0: \n",
    "        half_img_backup=0\n",
    "\n",
    "    random_backup = random.sample(backup , k=half_img_backup)\n",
    "    for i in range(half_img_backup):   \n",
    "        os.remove(f'{folder_path}\\{random_backup[i]}') \n",
    "\n",
    "\n"
   ]
  },
  {
   "cell_type": "code",
   "execution_count": 101,
   "metadata": {},
   "outputs": [],
   "source": [
    "kill_half('backup')"
   ]
  },
  {
   "cell_type": "code",
   "execution_count": 84,
   "metadata": {},
   "outputs": [
    {
     "data": {
      "text/plain": [
       "['cover024.png']"
      ]
     },
     "execution_count": 84,
     "metadata": {},
     "output_type": "execute_result"
    }
   ],
   "source": [
    "os.listdir('backup')"
   ]
  },
  {
   "cell_type": "code",
   "execution_count": 103,
   "metadata": {},
   "outputs": [],
   "source": [
    "def kill_half(folder_path):\n",
    "    backup = os.listdir(folder_path)\n",
    "    half_img_backup= len(os.listdir(folder_path))//2  # 24\n",
    "    if half_img_backup==0:\n",
    "        half_img_backup=1\n",
    "    \n",
    "    try : \n",
    "        random_backup = random.sample(backup , k=half_img_backup)\n",
    "        for i in range(half_img_backup):   \n",
    "            os.remove(f'{folder_path}\\{random_backup[i]}') \n",
    "    except : \n",
    "        print('Folder is empty')\n"
   ]
  },
  {
   "cell_type": "code",
   "execution_count": 111,
   "metadata": {},
   "outputs": [
    {
     "name": "stdout",
     "output_type": "stream",
     "text": [
      "Folder is empty\n"
     ]
    }
   ],
   "source": [
    "kill_half('backup')"
   ]
  },
  {
   "cell_type": "code",
   "execution_count": 120,
   "metadata": {},
   "outputs": [],
   "source": [
    "\n",
    "for img in os.listdir('backup'): \n",
    "    shutil.copy(src=f'backup\\{img}' , dst='universe')"
   ]
  },
  {
   "cell_type": "code",
   "execution_count": 121,
   "metadata": {},
   "outputs": [],
   "source": [
    "os.mkdir('new_folder')"
   ]
  },
  {
   "cell_type": "code",
   "execution_count": 122,
   "metadata": {},
   "outputs": [],
   "source": [
    "import string \n",
    "for img in os.listdir('backup') : \n",
    "    rand_img_name= ''.join(random.sample(string.ascii_lowercase , k=5))+ '.png'\n",
    "    os.rename(F\"backup/{img}\" , f\"new_folder/{rand_img_name}\")"
   ]
  },
  {
   "cell_type": "code",
   "execution_count": null,
   "metadata": {},
   "outputs": [],
   "source": []
  },
  {
   "cell_type": "code",
   "execution_count": null,
   "metadata": {},
   "outputs": [],
   "source": []
  }
 ],
 "metadata": {
  "kernelspec": {
   "display_name": "data",
   "language": "python",
   "name": "python3"
  },
  "language_info": {
   "codemirror_mode": {
    "name": "ipython",
    "version": 3
   },
   "file_extension": ".py",
   "mimetype": "text/x-python",
   "name": "python",
   "nbconvert_exporter": "python",
   "pygments_lexer": "ipython3",
   "version": "3.10.18"
  }
 },
 "nbformat": 4,
 "nbformat_minor": 2
}
