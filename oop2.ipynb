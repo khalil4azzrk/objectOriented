{
 "cells": [
  {
   "cell_type": "markdown",
   "id": "19aab4cf",
   "metadata": {},
   "source": [
    "# Library Project "
   ]
  },
  {
   "cell_type": "code",
   "execution_count": 28,
   "id": "cff7c708",
   "metadata": {},
   "outputs": [
    {
     "name": "stdout",
     "output_type": "stream",
     "text": [
      "- py\n",
      "- c++\n",
      "- R\n",
      " Book avaiable , You can lend it  \n",
      "The c# has been added sucessfuly\n",
      "The py book has returned sucessfuly\n"
     ]
    },
    {
     "data": {
      "text/plain": [
       "{}"
      ]
     },
     "execution_count": 28,
     "metadata": {},
     "output_type": "execute_result"
    }
   ],
   "source": [
    "class Library : \n",
    "    # This is library class foe=r handling the library system \n",
    "     def __init__(self , bookslist:list , name : str , lended_books:dict):\n",
    "         self.bookslist =bookslist\n",
    "         self.name =name\n",
    "         self.lended_books=lended_books\n",
    "     def avaiable_books(self ): \n",
    "         for book in self.bookslist: \n",
    "             print(f'- {book}')\n",
    "\n",
    "     def lending_books(self , user  , book ): \n",
    "         if (book in self.bookslist) and (book not in self.lended_books.values()): \n",
    "            print(' Book avaiable , You can lend it  ')\n",
    "            self.lended_books[user]= book\n",
    "            self.bookslist.remove(book)\n",
    "         else : \n",
    "                print('f{book} book is not avaiable ')\n",
    "\n",
    "     def added_book (self , book): \n",
    "         print(F'The {book} has been added sucessfuly')\n",
    "         self.bookslist.append(book)\n",
    "\n",
    "     def return_landed_books(self , user , book): \n",
    "         print(f'The {book} book has returned sucessfuly')\n",
    "         self.lended_books.pop(user )\n",
    "         self.bookslist.append(book)\n",
    "\n",
    "\n",
    "Harry = Library(bookslist = ['py' , 'c++' , 'R'] , \n",
    "name = 'Harry' , \n",
    "lended_books={}\n",
    ")\n",
    "Harry.avaiable_books()\n",
    "Harry.lending_books('khalil' , 'py')\n",
    "Harry.bookslist\n",
    "Harry.added_book('c#')\n",
    "Harry.bookslist\n",
    "Harry.return_landed_books( 'khalil', 'py')\n",
    "Harry.bookslist\n",
    "Harry.lended_books"
   ]
  },
  {
   "cell_type": "markdown",
   "id": "e0df89d3",
   "metadata": {},
   "source": [
    "# Encapsulation (Data Hidden)"
   ]
  },
  {
   "cell_type": "code",
   "execution_count": 29,
   "id": "c8b78205",
   "metadata": {},
   "outputs": [],
   "source": [
    "class CAR : \n",
    "    def __init__(self , brand , color , max_speed): \n",
    "        self.brand = brand \n",
    "        self.__color = color \n",
    "        self.max_speed = max_speed\n",
    "    def get_color(self) : \n",
    "        print(self.__color)\n",
    "    def set_color(self , color ): \n",
    "        self.__color= color \n",
    "        \n"
   ]
  },
  {
   "cell_type": "code",
   "execution_count": 30,
   "id": "c2869039",
   "metadata": {},
   "outputs": [
    {
     "data": {
      "text/plain": [
       "'BMW'"
      ]
     },
     "execution_count": 30,
     "metadata": {},
     "output_type": "execute_result"
    }
   ],
   "source": [
    "red_car= CAR(brand ='BMW' ,color='white' , max_speed=200)\n",
    "red_car.brand"
   ]
  },
  {
   "cell_type": "code",
   "execution_count": 33,
   "id": "e00652b2",
   "metadata": {},
   "outputs": [
    {
     "ename": "AttributeError",
     "evalue": "'CAR' object has no attribute '__color'",
     "output_type": "error",
     "traceback": [
      "\u001b[1;31m---------------------------------------------------------------------------\u001b[0m",
      "\u001b[1;31mAttributeError\u001b[0m                            Traceback (most recent call last)",
      "Cell \u001b[1;32mIn[33], line 1\u001b[0m\n\u001b[1;32m----> 1\u001b[0m red_car\u001b[38;5;241m.\u001b[39m__color\n",
      "\u001b[1;31mAttributeError\u001b[0m: 'CAR' object has no attribute '__color'"
     ]
    }
   ],
   "source": [
    "red_car.__color   # 'CAR' object has no attribute 'color'   ERROR "
   ]
  },
  {
   "cell_type": "code",
   "execution_count": 32,
   "id": "630c9712",
   "metadata": {},
   "outputs": [
    {
     "name": "stdout",
     "output_type": "stream",
     "text": [
      "white\n"
     ]
    }
   ],
   "source": [
    "red_car.get_color()"
   ]
  },
  {
   "cell_type": "code",
   "execution_count": 35,
   "id": "48c5f2fe",
   "metadata": {},
   "outputs": [
    {
     "name": "stdout",
     "output_type": "stream",
     "text": [
      "red\n"
     ]
    }
   ],
   "source": [
    "red_car.set_color('red')\n",
    "red_car.get_color()"
   ]
  },
  {
   "cell_type": "code",
   "execution_count": 82,
   "id": "43c4fd9e",
   "metadata": {},
   "outputs": [],
   "source": [
    "class CAR : \n",
    "    def __init__(self , brand , color , max_speed): \n",
    "        self.brand = brand \n",
    "        self.__color = color \n",
    "        self.__max_speed = max_speed\n",
    "    def get_color(self) : \n",
    "        print(self.__color)\n",
    "    def set_color(self , color ):\n",
    "        if color in ['red' , 'yellow'] :\n",
    "           self.__color= color \n",
    "        else : \n",
    "            print('This color is not avaiable ')\n",
    "    def __convert_to_mph(self): \n",
    "        return self.__max_speed  * 0.621317 \n",
    "    \n",
    "    def get_speed (self): \n",
    "        return self.__convert_to_mph()\n",
    "    \n",
    "    def set_speed (self , max_speed): \n",
    "        if max_speed>0: \n",
    "            self.__max_speed=max_speed\n",
    "        else : \n",
    "            print('Invalid Speed')\n",
    "\n",
    "        \n"
   ]
  },
  {
   "cell_type": "code",
   "execution_count": 83,
   "id": "6d9d4d5e",
   "metadata": {},
   "outputs": [
    {
     "name": "stdout",
     "output_type": "stream",
     "text": [
      "white\n",
      "None\n",
      "red\n",
      "None\n"
     ]
    }
   ],
   "source": [
    "red_car= CAR(brand ='BMW' ,color='white' , max_speed=200)\n",
    "print(red_car.get_color())\n",
    "red_car.set_color('red')\n",
    "print(red_car.get_color())"
   ]
  },
  {
   "cell_type": "code",
   "execution_count": 84,
   "id": "6aee22ca",
   "metadata": {},
   "outputs": [
    {
     "name": "stdout",
     "output_type": "stream",
     "text": [
      "yellow\n",
      "None\n"
     ]
    }
   ],
   "source": [
    "red_car.set_color('yellow')\n",
    "print(red_car.get_color())\n"
   ]
  },
  {
   "cell_type": "code",
   "execution_count": 73,
   "id": "63d44533",
   "metadata": {},
   "outputs": [
    {
     "name": "stdout",
     "output_type": "stream",
     "text": [
      "This color is not avaiable \n"
     ]
    }
   ],
   "source": [
    "red_car.set_color('blue')"
   ]
  },
  {
   "cell_type": "code",
   "execution_count": 89,
   "id": "14385ce2",
   "metadata": {},
   "outputs": [
    {
     "data": {
      "text/plain": [
       "211.24778"
      ]
     },
     "execution_count": 89,
     "metadata": {},
     "output_type": "execute_result"
    }
   ],
   "source": [
    "red_car.get_speed()"
   ]
  },
  {
   "cell_type": "code",
   "execution_count": 86,
   "id": "5101db43",
   "metadata": {},
   "outputs": [
    {
     "name": "stdout",
     "output_type": "stream",
     "text": [
      "Invalid Speed\n"
     ]
    }
   ],
   "source": [
    "red_car.set_speed(0)"
   ]
  },
  {
   "cell_type": "code",
   "execution_count": 90,
   "id": "b678741b",
   "metadata": {},
   "outputs": [],
   "source": [
    "red_car.set_speed(211111)"
   ]
  },
  {
   "cell_type": "code",
   "execution_count": 91,
   "id": "cb88ab41",
   "metadata": {},
   "outputs": [
    {
     "data": {
      "text/plain": [
       "131166.853187"
      ]
     },
     "execution_count": 91,
     "metadata": {},
     "output_type": "execute_result"
    }
   ],
   "source": [
    "red_car.get_speed()"
   ]
  },
  {
   "cell_type": "markdown",
   "id": "002614a5",
   "metadata": {},
   "source": [
    "# Inheritance \n"
   ]
  },
  {
   "cell_type": "code",
   "execution_count": 99,
   "id": "b619850e",
   "metadata": {},
   "outputs": [],
   "source": [
    "class CAR : \n",
    "    def __init__(self , brand , color , max_speed): \n",
    "        self.brand = brand \n",
    "        self.color = color \n",
    "        self.max_speed = max_speed \n",
    "    \n",
    "    def start_engine( self): \n",
    "        print('Engine Started')  \n",
    "\n",
    "    def  end_engine(self) : \n",
    "        print('Engine Stopped')\n",
    "    \n",
    "    def honk (self) : \n",
    "        print('Beep Beep')"
   ]
  },
  {
   "cell_type": "code",
   "execution_count": null,
   "id": "e44f7c14",
   "metadata": {},
   "outputs": [
    {
     "name": "stdout",
     "output_type": "stream",
     "text": [
      "Beep Beep\n"
     ]
    }
   ],
   "source": [
    "car_1 = CAR ('BMW' , 'BLUE' , 300)\n",
    "car_1.honk()  "
   ]
  },
  {
   "cell_type": "code",
   "execution_count": 103,
   "id": "1960e853",
   "metadata": {},
   "outputs": [],
   "source": [
    "class Sedan (CAR) : \n",
    "    def sport_mode(self): \n",
    "        print('Sport Mode Activated')"
   ]
  },
  {
   "cell_type": "code",
   "execution_count": 104,
   "id": "d4d06bfa",
   "metadata": {},
   "outputs": [
    {
     "data": {
      "text/plain": [
       "'White'"
      ]
     },
     "execution_count": 104,
     "metadata": {},
     "output_type": "execute_result"
    }
   ],
   "source": [
    "sedan_1 = Sedan('MrS' , 'White' , 1000)\n",
    "sedan_1.color"
   ]
  },
  {
   "cell_type": "code",
   "execution_count": null,
   "id": "6525142f",
   "metadata": {},
   "outputs": [],
   "source": []
  },
  {
   "cell_type": "code",
   "execution_count": null,
   "id": "be269e34",
   "metadata": {},
   "outputs": [],
   "source": []
  },
  {
   "cell_type": "code",
   "execution_count": null,
   "id": "c0715125",
   "metadata": {},
   "outputs": [],
   "source": []
  },
  {
   "cell_type": "code",
   "execution_count": null,
   "id": "8a99cc06",
   "metadata": {},
   "outputs": [],
   "source": []
  },
  {
   "cell_type": "code",
   "execution_count": null,
   "id": "4d5c39ec",
   "metadata": {},
   "outputs": [],
   "source": []
  },
  {
   "cell_type": "code",
   "execution_count": null,
   "id": "9f13487e",
   "metadata": {},
   "outputs": [],
   "source": []
  }
 ],
 "metadata": {
  "kernelspec": {
   "display_name": "base",
   "language": "python",
   "name": "python3"
  },
  "language_info": {
   "codemirror_mode": {
    "name": "ipython",
    "version": 3
   },
   "file_extension": ".py",
   "mimetype": "text/x-python",
   "name": "python",
   "nbconvert_exporter": "python",
   "pygments_lexer": "ipython3",
   "version": "3.12.7"
  }
 },
 "nbformat": 4,
 "nbformat_minor": 5
}
