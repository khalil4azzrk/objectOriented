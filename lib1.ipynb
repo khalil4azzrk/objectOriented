{
 "cells": [
  {
   "cell_type": "code",
   "execution_count": null,
   "id": "23719b83",
   "metadata": {},
   "outputs": [],
   "source": [
    "# conda create --name khalil\n",
    "# conda activate khalil\n",
    "# conda install python=3.10\n",
    "# conda env list\n",
    "# conda remove -n khalil --all"
   ]
  },
  {
   "cell_type": "code",
   "execution_count": null,
   "id": "11bf3611",
   "metadata": {},
   "outputs": [
    {
     "data": {
      "text/plain": [
       "1"
      ]
     },
     "execution_count": 1,
     "metadata": {},
     "output_type": "execute_result"
    }
   ],
   "source": [
    "#  conda activate data\n",
    "# conda install jupyter\n",
    "# jupyter notebook "
   ]
  },
  {
   "cell_type": "markdown",
   "id": "093cc8ba",
   "metadata": {},
   "source": [
    "# random module "
   ]
  },
  {
   "cell_type": "code",
   "execution_count": 2,
   "id": "cbfe1de5",
   "metadata": {},
   "outputs": [],
   "source": [
    "import random \n"
   ]
  },
  {
   "cell_type": "code",
   "execution_count": null,
   "id": "4e98347f",
   "metadata": {},
   "outputs": [
    {
     "data": {
      "text/plain": [
       "'a'"
      ]
     },
     "execution_count": 12,
     "metadata": {},
     "output_type": "execute_result"
    }
   ],
   "source": [
    "# choice(sequence [str , list , ....]  , choice 1 elem )\n",
    "random.choice('khalil')"
   ]
  },
  {
   "cell_type": "code",
   "execution_count": null,
   "id": "d8144b6b",
   "metadata": {},
   "outputs": [
    {
     "data": {
      "text/plain": [
       "['i', 'i']"
      ]
     },
     "execution_count": 23,
     "metadata": {},
     "output_type": "execute_result"
    }
   ],
   "source": [
    "# choice(sequence [str , list , ....]  , choice more elems  , k=1(default) ) can happend repetation in random elems \n",
    "random.choices('khalil' , k=2)  # (With Replacement)."
   ]
  },
  {
   "cell_type": "code",
   "execution_count": null,
   "id": "2ac1fd88",
   "metadata": {},
   "outputs": [
    {
     "data": {
      "text/plain": [
       "[5, 3, 22, 9]"
      ]
     },
     "execution_count": 92,
     "metadata": {},
     "output_type": "execute_result"
    }
   ],
   "source": [
    "random.sample([3,4,5 , 9 , 44 ,22] , k=4) # (Without Replacement)"
   ]
  },
  {
   "cell_type": "code",
   "execution_count": 109,
   "id": "0188dc96",
   "metadata": {},
   "outputs": [
    {
     "data": {
      "text/plain": [
       "6"
      ]
     },
     "execution_count": 109,
     "metadata": {},
     "output_type": "execute_result"
    }
   ],
   "source": [
    "random.randint(1 , 10)  # Return random integer in range [a, b], including both end points."
   ]
  },
  {
   "cell_type": "code",
   "execution_count": 119,
   "id": "e4f676eb",
   "metadata": {},
   "outputs": [
    {
     "data": {
      "text/plain": [
       "10"
      ]
     },
     "execution_count": 119,
     "metadata": {},
     "output_type": "execute_result"
    }
   ],
   "source": [
    "random.randrange(0 , 11 , 2)"
   ]
  },
  {
   "cell_type": "code",
   "execution_count": null,
   "id": "fea23c95",
   "metadata": {},
   "outputs": [
    {
     "data": {
      "text/plain": [
       "0.5218128324614323"
      ]
     },
     "execution_count": 125,
     "metadata": {},
     "output_type": "execute_result"
    }
   ],
   "source": [
    "random.random() # return numb from 0 to 1 "
   ]
  },
  {
   "cell_type": "code",
   "execution_count": 127,
   "id": "918cffd1",
   "metadata": {},
   "outputs": [
    {
     "data": {
      "text/plain": [
       "0.48"
      ]
     },
     "execution_count": 127,
     "metadata": {},
     "output_type": "execute_result"
    }
   ],
   "source": [
    "round(random.random() , 2)"
   ]
  },
  {
   "cell_type": "code",
   "execution_count": 136,
   "id": "5cba481b",
   "metadata": {},
   "outputs": [
    {
     "data": {
      "text/plain": [
       "0.13"
      ]
     },
     "execution_count": 136,
     "metadata": {},
     "output_type": "execute_result"
    }
   ],
   "source": [
    "random.random().__round__(2)"
   ]
  },
  {
   "cell_type": "code",
   "execution_count": null,
   "id": "6647b133",
   "metadata": {},
   "outputs": [
    {
     "data": {
      "text/plain": [
       "1.1569953346053699"
      ]
     },
     "execution_count": 152,
     "metadata": {},
     "output_type": "execute_result"
    }
   ],
   "source": [
    "random.uniform(1,10) # return range(start , end )"
   ]
  },
  {
   "cell_type": "markdown",
   "id": "5c87a624",
   "metadata": {},
   "source": [
    "# OS (operating system ) Module "
   ]
  },
  {
   "cell_type": "code",
   "execution_count": 2,
   "id": "fe29f066",
   "metadata": {},
   "outputs": [],
   "source": [
    "import os "
   ]
  },
  {
   "cell_type": "code",
   "execution_count": 3,
   "id": "c33abd0d",
   "metadata": {},
   "outputs": [
    {
     "data": {
      "text/plain": [
       "'c:\\\\Users\\\\user\\\\Downloads\\\\Tech'"
      ]
     },
     "execution_count": 3,
     "metadata": {},
     "output_type": "execute_result"
    }
   ],
   "source": [
    "os.getcwd() # get current working directory "
   ]
  },
  {
   "cell_type": "code",
   "execution_count": 4,
   "id": "f595ad3b",
   "metadata": {},
   "outputs": [
    {
     "data": {
      "text/plain": [
       "['.git',\n",
       " 'h origin master',\n",
       " 'lib1.ipynb',\n",
       " 'modules',\n",
       " 'oop1.ipynb',\n",
       " 'oop2.ipynb']"
      ]
     },
     "execution_count": 4,
     "metadata": {},
     "output_type": "execute_result"
    }
   ],
   "source": [
    "os.listdir()  # return all folders and files "
   ]
  },
  {
   "cell_type": "code",
   "execution_count": 5,
   "id": "6c395fc7",
   "metadata": {},
   "outputs": [],
   "source": [
    "os.chdir('modules')  # change working directory "
   ]
  },
  {
   "cell_type": "code",
   "execution_count": 6,
   "id": "5bd33173",
   "metadata": {},
   "outputs": [
    {
     "data": {
      "text/plain": [
       "'c:\\\\Users\\\\user\\\\Downloads\\\\Tech\\\\modules'"
      ]
     },
     "execution_count": 6,
     "metadata": {},
     "output_type": "execute_result"
    }
   ],
   "source": [
    "os.getcwd()"
   ]
  },
  {
   "cell_type": "code",
   "execution_count": 7,
   "id": "277767fa",
   "metadata": {},
   "outputs": [
    {
     "data": {
      "text/plain": [
       "['file_text.txt']"
      ]
     },
     "execution_count": 7,
     "metadata": {},
     "output_type": "execute_result"
    }
   ],
   "source": [
    "os.listdir()"
   ]
  },
  {
   "cell_type": "code",
   "execution_count": 8,
   "id": "4a81f218",
   "metadata": {},
   "outputs": [],
   "source": [
    "os.chdir('..') \n",
    "\n"
   ]
  },
  {
   "cell_type": "code",
   "execution_count": 9,
   "id": "f700e32b",
   "metadata": {},
   "outputs": [
    {
     "data": {
      "text/plain": [
       "'c:\\\\Users\\\\user\\\\Downloads\\\\Tech'"
      ]
     },
     "execution_count": 9,
     "metadata": {},
     "output_type": "execute_result"
    }
   ],
   "source": [
    "os.getcwd()"
   ]
  },
  {
   "cell_type": "code",
   "execution_count": 11,
   "id": "a4df111b",
   "metadata": {},
   "outputs": [],
   "source": [
    "os.chdir('..') "
   ]
  },
  {
   "cell_type": "code",
   "execution_count": 12,
   "id": "a9fca203",
   "metadata": {},
   "outputs": [
    {
     "data": {
      "text/plain": [
       "'c:\\\\Users\\\\user\\\\Downloads'"
      ]
     },
     "execution_count": 12,
     "metadata": {},
     "output_type": "execute_result"
    }
   ],
   "source": [
    "os.getcwd()"
   ]
  },
  {
   "cell_type": "code",
   "execution_count": 14,
   "id": "eb72ca97",
   "metadata": {},
   "outputs": [],
   "source": [
    "os.chdir('Tech/modules')"
   ]
  },
  {
   "cell_type": "code",
   "execution_count": 15,
   "id": "a14ef545",
   "metadata": {},
   "outputs": [
    {
     "data": {
      "text/plain": [
       "'c:\\\\Users\\\\user\\\\Downloads\\\\Tech\\\\modules'"
      ]
     },
     "execution_count": 15,
     "metadata": {},
     "output_type": "execute_result"
    }
   ],
   "source": [
    "os.getcwd()"
   ]
  },
  {
   "cell_type": "code",
   "execution_count": null,
   "id": "d8de008c",
   "metadata": {},
   "outputs": [],
   "source": [
    "os.mkdir('teeeeest')  # make folder in this directoty "
   ]
  },
  {
   "cell_type": "code",
   "execution_count": null,
   "id": "70ec9949",
   "metadata": {},
   "outputs": [],
   "source": [
    "os.rmdir('teeeeest')  # remove folder in this directory "
   ]
  },
  {
   "cell_type": "code",
   "execution_count": null,
   "id": "805a3d34",
   "metadata": {},
   "outputs": [],
   "source": [
    "os.remove('file_text.txt')  # remove file in this directory "
   ]
  },
  {
   "cell_type": "code",
   "execution_count": 20,
   "id": "6031827d",
   "metadata": {},
   "outputs": [],
   "source": [
    "os.rename('file.txt.txt' , 'file.txt')\n",
    "#     The current file name that you want to rename    , This is the new name that you want to change the file name to"
   ]
  },
  {
   "cell_type": "code",
   "execution_count": 21,
   "id": "afd13969",
   "metadata": {},
   "outputs": [],
   "source": [
    "os.rename('file.txt' , '../b11/file11.txt')"
   ]
  },
  {
   "cell_type": "markdown",
   "id": "5da908cf",
   "metadata": {},
   "source": [
    "# Shutil Module "
   ]
  },
  {
   "cell_type": "code",
   "execution_count": 22,
   "id": "e192f867",
   "metadata": {},
   "outputs": [],
   "source": [
    "import shutil"
   ]
  },
  {
   "cell_type": "code",
   "execution_count": 24,
   "id": "7af07954",
   "metadata": {},
   "outputs": [
    {
     "data": {
      "text/plain": [
       "'c:\\\\Users\\\\user\\\\Downloads\\\\Tech\\\\modules'"
      ]
     },
     "execution_count": 24,
     "metadata": {},
     "output_type": "execute_result"
    }
   ],
   "source": [
    "os.getcwd()"
   ]
  },
  {
   "cell_type": "code",
   "execution_count": null,
   "id": "ee6002bb",
   "metadata": {},
   "outputs": [
    {
     "data": {
      "text/plain": [
       "'../modules\\\\file11.txt'"
      ]
     },
     "execution_count": 25,
     "metadata": {},
     "output_type": "execute_result"
    }
   ],
   "source": [
    "shutil.copy('../b11/file11.txt' , '../modules')\n",
    "#            file that want to copy   , place "
   ]
  },
  {
   "cell_type": "code",
   "execution_count": 30,
   "id": "952aaf27",
   "metadata": {},
   "outputs": [
    {
     "data": {
      "text/plain": [
       "'c:\\\\Users\\\\user\\\\Downloads\\\\Tech\\\\modules'"
      ]
     },
     "execution_count": 30,
     "metadata": {},
     "output_type": "execute_result"
    }
   ],
   "source": [
    "os.getcwd()"
   ]
  },
  {
   "cell_type": "code",
   "execution_count": 34,
   "id": "0851a9f4",
   "metadata": {},
   "outputs": [
    {
     "data": {
      "text/plain": [
       "'../tree11113'"
      ]
     },
     "execution_count": 34,
     "metadata": {},
     "output_type": "execute_result"
    }
   ],
   "source": [
    "\n",
    "\n",
    "src = 'c://Users//user//Downloads//Tech//modules'\n",
    "dst = '../tree11113'\n",
    "\n",
    "shutil.copytree(src, dst)  \n"
   ]
  },
  {
   "cell_type": "markdown",
   "id": "876f85dd",
   "metadata": {},
   "source": [
    "# datetime Module"
   ]
  },
  {
   "cell_type": "code",
   "execution_count": null,
   "id": "579ff0dd",
   "metadata": {},
   "outputs": [
    {
     "name": "stdout",
     "output_type": "stream",
     "text": [
      "2025-07-27 15:56:47.388022\n",
      "2025-07-27\n",
      "2025\n",
      "7\n",
      "27\n",
      "15\n",
      "56\n",
      "47\n"
     ]
    }
   ],
   "source": [
    "import datetime as dt \n",
    "from datetime import datetime\n",
    "#    module           class \n",
    "print(datetime.today())\n",
    "print(datetime.today().date())\n",
    "print(datetime.today().year)\n",
    "print(datetime.today().month)\n",
    "print(datetime.today().day)\n",
    "print(datetime.today().hour)\n",
    "print(datetime.today().minute)\n",
    "print(datetime.today().second)  \n",
    "\n",
    "\n"
   ]
  },
  {
   "cell_type": "code",
   "execution_count": null,
   "id": "d930dce5",
   "metadata": {},
   "outputs": [
    {
     "data": {
      "text/plain": [
       "datetime.timedelta(days=10552)"
      ]
     },
     "execution_count": 49,
     "metadata": {},
     "output_type": "execute_result"
    }
   ],
   "source": [
    "birth_day= dt.datetime(1996 , 9 , 5).date()\n",
    "today= dt.datetime.today().date()\n",
    "today - birth_day  # default days "
   ]
  },
  {
   "cell_type": "code",
   "execution_count": 53,
   "id": "e3bafa00",
   "metadata": {},
   "outputs": [
    {
     "data": {
      "text/plain": [
       "29"
      ]
     },
     "execution_count": 53,
     "metadata": {},
     "output_type": "execute_result"
    }
   ],
   "source": [
    "birth_day= dt.datetime(1996 , 9 , 5).date()\n",
    "today= dt.datetime.today().date()\n",
    "((today - birth_day).days) / 365.25\n",
    "round(((today - birth_day).days) / 365.25)"
   ]
  },
  {
   "cell_type": "code",
   "execution_count": 54,
   "id": "2aeeeaf9",
   "metadata": {},
   "outputs": [
    {
     "data": {
      "text/plain": [
       "28.0"
      ]
     },
     "execution_count": 54,
     "metadata": {},
     "output_type": "execute_result"
    }
   ],
   "source": [
    "((today - birth_day).days) // 365.25"
   ]
  },
  {
   "cell_type": "markdown",
   "id": "4eba0c35",
   "metadata": {},
   "source": [
    "# time module "
   ]
  },
  {
   "cell_type": "code",
   "execution_count": 57,
   "id": "5308d441",
   "metadata": {},
   "outputs": [
    {
     "data": {
      "text/plain": [
       "0.5738823413848877"
      ]
     },
     "execution_count": 57,
     "metadata": {},
     "output_type": "execute_result"
    }
   ],
   "source": [
    "import time \n",
    "st_time=time.time()\n",
    "for i in range(10000000): \n",
    "    pass\n",
    "end_time= time.time()\n",
    "execution_time= end_time - st_time\n",
    "execution_time"
   ]
  },
  {
   "cell_type": "code",
   "execution_count": 59,
   "id": "5bbf2afe",
   "metadata": {},
   "outputs": [
    {
     "name": "stdout",
     "output_type": "stream",
     "text": [
      "k\n",
      "h\n",
      "a\n",
      "l\n",
      "i\n",
      "l\n"
     ]
    }
   ],
   "source": [
    "for letter in 'khalil': \n",
    "    print(letter)\n",
    "    time.sleep(5)"
   ]
  },
  {
   "cell_type": "code",
   "execution_count": null,
   "id": "86971f58",
   "metadata": {},
   "outputs": [],
   "source": []
  },
  {
   "cell_type": "code",
   "execution_count": null,
   "id": "7540c5ed",
   "metadata": {},
   "outputs": [],
   "source": []
  },
  {
   "cell_type": "code",
   "execution_count": null,
   "id": "b10b7ec8",
   "metadata": {},
   "outputs": [],
   "source": []
  }
 ],
 "metadata": {
  "kernelspec": {
   "display_name": "base",
   "language": "python",
   "name": "python3"
  },
  "language_info": {
   "codemirror_mode": {
    "name": "ipython",
    "version": 3
   },
   "file_extension": ".py",
   "mimetype": "text/x-python",
   "name": "python",
   "nbconvert_exporter": "python",
   "pygments_lexer": "ipython3",
   "version": "3.12.7"
  }
 },
 "nbformat": 4,
 "nbformat_minor": 5
}
