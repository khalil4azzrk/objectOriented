{
 "cells": [
  {
   "cell_type": "code",
   "execution_count": null,
   "id": "23719b83",
   "metadata": {},
   "outputs": [],
   "source": [
    "# conda create --name khalil\n",
    "# conda activate khalil\n",
    "# conda install python=3.10\n",
    "# conda env list\n",
    "# conda remove -n khalil --all"
   ]
  },
  {
   "cell_type": "code",
   "execution_count": null,
   "id": "11bf3611",
   "metadata": {},
   "outputs": [
    {
     "data": {
      "text/plain": [
       "1"
      ]
     },
     "execution_count": 1,
     "metadata": {},
     "output_type": "execute_result"
    }
   ],
   "source": [
    "#  conda activate data\n",
    "# conda install jupyter\n",
    "# jupyter notebook "
   ]
  },
  {
   "cell_type": "markdown",
   "id": "093cc8ba",
   "metadata": {},
   "source": [
    "# random module "
   ]
  },
  {
   "cell_type": "code",
   "execution_count": 2,
   "id": "cbfe1de5",
   "metadata": {},
   "outputs": [],
   "source": [
    "import random \n"
   ]
  },
  {
   "cell_type": "code",
   "execution_count": null,
   "id": "4e98347f",
   "metadata": {},
   "outputs": [
    {
     "data": {
      "text/plain": [
       "'a'"
      ]
     },
     "execution_count": 12,
     "metadata": {},
     "output_type": "execute_result"
    }
   ],
   "source": [
    "# choice(sequence [str , list , ....]  , choice 1 elem )\n",
    "random.choice('khalil')"
   ]
  },
  {
   "cell_type": "code",
   "execution_count": null,
   "id": "d8144b6b",
   "metadata": {},
   "outputs": [
    {
     "data": {
      "text/plain": [
       "['i', 'i']"
      ]
     },
     "execution_count": 23,
     "metadata": {},
     "output_type": "execute_result"
    }
   ],
   "source": [
    "# choice(sequence [str , list , ....]  , choice more elems  , k=1(default) ) can happend repetation in random elems \n",
    "random.choices('khalil' , k=2)  # (With Replacement)."
   ]
  },
  {
   "cell_type": "code",
   "execution_count": null,
   "id": "2ac1fd88",
   "metadata": {},
   "outputs": [
    {
     "data": {
      "text/plain": [
       "[5, 3, 22, 9]"
      ]
     },
     "execution_count": 92,
     "metadata": {},
     "output_type": "execute_result"
    }
   ],
   "source": [
    "random.sample([3,4,5 , 9 , 44 ,22] , k=4) # (Without Replacement)"
   ]
  },
  {
   "cell_type": "code",
   "execution_count": 109,
   "id": "0188dc96",
   "metadata": {},
   "outputs": [
    {
     "data": {
      "text/plain": [
       "6"
      ]
     },
     "execution_count": 109,
     "metadata": {},
     "output_type": "execute_result"
    }
   ],
   "source": [
    "random.randint(1 , 10)  # Return random integer in range [a, b], including both end points."
   ]
  },
  {
   "cell_type": "code",
   "execution_count": 119,
   "id": "e4f676eb",
   "metadata": {},
   "outputs": [
    {
     "data": {
      "text/plain": [
       "10"
      ]
     },
     "execution_count": 119,
     "metadata": {},
     "output_type": "execute_result"
    }
   ],
   "source": [
    "random.randrange(0 , 11 , 2)"
   ]
  },
  {
   "cell_type": "code",
   "execution_count": null,
   "id": "fea23c95",
   "metadata": {},
   "outputs": [
    {
     "data": {
      "text/plain": [
       "0.5218128324614323"
      ]
     },
     "execution_count": 125,
     "metadata": {},
     "output_type": "execute_result"
    }
   ],
   "source": [
    "random.random() # return numb from 0 to 1 "
   ]
  },
  {
   "cell_type": "code",
   "execution_count": 127,
   "id": "918cffd1",
   "metadata": {},
   "outputs": [
    {
     "data": {
      "text/plain": [
       "0.48"
      ]
     },
     "execution_count": 127,
     "metadata": {},
     "output_type": "execute_result"
    }
   ],
   "source": [
    "round(random.random() , 2)"
   ]
  },
  {
   "cell_type": "code",
   "execution_count": 136,
   "id": "5cba481b",
   "metadata": {},
   "outputs": [
    {
     "data": {
      "text/plain": [
       "0.13"
      ]
     },
     "execution_count": 136,
     "metadata": {},
     "output_type": "execute_result"
    }
   ],
   "source": [
    "random.random().__round__(2)"
   ]
  },
  {
   "cell_type": "code",
   "execution_count": null,
   "id": "6647b133",
   "metadata": {},
   "outputs": [
    {
     "data": {
      "text/plain": [
       "1.1569953346053699"
      ]
     },
     "execution_count": 152,
     "metadata": {},
     "output_type": "execute_result"
    }
   ],
   "source": [
    "random.uniform(1,10) # return range(start , end )"
   ]
  },
  {
   "cell_type": "markdown",
   "id": "5c87a624",
   "metadata": {},
   "source": [
    "# OS (operating system ) Module "
   ]
  },
  {
   "cell_type": "code",
   "execution_count": 1,
   "id": "fe29f066",
   "metadata": {},
   "outputs": [],
   "source": [
    "import os "
   ]
  },
  {
   "cell_type": "code",
   "execution_count": null,
   "id": "c33abd0d",
   "metadata": {},
   "outputs": [
    {
     "data": {
      "text/plain": [
       "'c:\\\\Users\\\\user\\\\Downloads\\\\Tech'"
      ]
     },
     "execution_count": 2,
     "metadata": {},
     "output_type": "execute_result"
    }
   ],
   "source": [
    "os.getcwd() # get current working directory "
   ]
  },
  {
   "cell_type": "code",
   "execution_count": null,
   "id": "f595ad3b",
   "metadata": {},
   "outputs": [
    {
     "data": {
      "text/plain": [
       "['.git', 'lib1.ipynb', 'modules', 'oop1.ipynb', 'oop2.ipynb']"
      ]
     },
     "execution_count": 3,
     "metadata": {},
     "output_type": "execute_result"
    }
   ],
   "source": [
    "os.listdir()  # return all folders and files "
   ]
  },
  {
   "cell_type": "code",
   "execution_count": null,
   "id": "6c395fc7",
   "metadata": {},
   "outputs": [],
   "source": [
    "os.chdir('modules')  # change working directory "
   ]
  },
  {
   "cell_type": "code",
   "execution_count": 7,
   "id": "5bd33173",
   "metadata": {},
   "outputs": [
    {
     "data": {
      "text/plain": [
       "'c:\\\\Users\\\\user\\\\Downloads\\\\Tech\\\\modules'"
      ]
     },
     "execution_count": 7,
     "metadata": {},
     "output_type": "execute_result"
    }
   ],
   "source": [
    "os.getcwd()"
   ]
  },
  {
   "cell_type": "code",
   "execution_count": null,
   "id": "277767fa",
   "metadata": {},
   "outputs": [],
   "source": []
  },
  {
   "cell_type": "code",
   "execution_count": null,
   "id": "4a81f218",
   "metadata": {},
   "outputs": [],
   "source": []
  }
 ],
 "metadata": {
  "kernelspec": {
   "display_name": "base",
   "language": "python",
   "name": "python3"
  },
  "language_info": {
   "codemirror_mode": {
    "name": "ipython",
    "version": 3
   },
   "file_extension": ".py",
   "mimetype": "text/x-python",
   "name": "python",
   "nbconvert_exporter": "python",
   "pygments_lexer": "ipython3",
   "version": "3.12.7"
  }
 },
 "nbformat": 4,
 "nbformat_minor": 5
}
